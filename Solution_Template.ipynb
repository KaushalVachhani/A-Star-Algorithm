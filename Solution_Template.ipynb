{
 "cells": [
  {
   "cell_type": "markdown",
   "metadata": {},
   "source": [
    "<center><h1> Artifical and Computational Intelligence Assignment 1 </h1></center>\n",
    " \n",
    "Problem Solving by using A*\n",
    "\n",
    "Weightage: 13%\n",
    "\n",
    "Date of Posting - 20/July/2020\n",
    "\n",
    "Deadline - 30/July/2020"
   ]
  },
  {
   "cell_type": "markdown",
   "metadata": {},
   "source": [
    "Please Enter group and Individual information below:\n",
    "\n",
    "<b>Group ID/Number: 2</b>\n",
    "\n",
    "<b>Group Members BITS ID:</b> <br>2019HW04002(SUBHASH CHANDER VERMA) <br>\n",
    "                       2019HW04017(KAUSHAL VACHHANI) <br>\n",
    "                       2019HW04029(RAJAN MOURYA)<br>\n",
    "                       2019HW04030(SATYENDRA SINGH)"
   ]
  },
  {
   "cell_type": "markdown",
   "metadata": {},
   "source": [
    "1) Define the environment representation in the following code block"
   ]
  },
  {
   "cell_type": "raw",
   "metadata": {},
   "source": [
    "#PEAS Description of the task environment here :\n",
    "\n",
    "\n",
    "\n"
   ]
  },
  {
   "cell_type": "code",
   "execution_count": 1,
   "metadata": {},
   "outputs": [],
   "source": [
    "import math"
   ]
  },
  {
   "cell_type": "markdown",
   "metadata": {},
   "source": [
    "<b><u>Haversine formula</u></b><br>\n",
    "<p>The haversine formula determines the great-circle distance between two points on a sphere given their longitudes and latitudes.</p>\n",
    "a = sin²(Δφ/2) + cos φ1 ⋅ cos φ2 ⋅ sin²(Δλ/2)<br>\n",
    "c = 2 ⋅ atan2(√a,√(1−a))<br>\n",
    "d = R ⋅ c<br>\n",
    "where φ is latitude, λ is longitude, R is earth’s radius (mean radius = 6,371km)\n"
   ]
  },
  {
   "cell_type": "markdown",
   "metadata": {},
   "source": [
    "2) Define a function which calculates the heuristic distance from each city to the destination city in the following code block"
   ]
  },
  {
   "cell_type": "code",
   "execution_count": 2,
   "metadata": {},
   "outputs": [],
   "source": [
    "#Harvesine function to calculate distance between each cities to destination city\n",
    "\n",
    "def harvesine(lat1, lon1, lat2, lon2):\n",
    "    \n",
    "    dis_lat = math.radians(lat2-lat1)\n",
    "    dis_lon = math.radians(lon2-lon1)\n",
    "    \n",
    "    a = pow(math.sin(dis_lat)/2, 2) + (math.cos(math.radians(lat1)) * math.cos(math.radians(lat2)) * pow(math.sin(dis_lon)/2,2))\n",
    "    c = 2 * math.atan2(math.sqrt(a), math.sqrt(1-a))\n",
    "    d = 6371 * c\n",
    "    \n",
    "    return int(d)"
   ]
  },
  {
   "cell_type": "markdown",
   "metadata": {},
   "source": [
    "3) Implementation of A* Algorithm . Feel free to add code blocks for each methods needed starting here.\n",
    "Please modularize the implementation of A* and write each of them in a code block. "
   ]
  },
  {
   "cell_type": "code",
   "execution_count": 3,
   "metadata": {},
   "outputs": [],
   "source": [
    "def AStarSearch():\n",
    "    global graph, heuristic\n",
    "    closed = []             # closed nodes\n",
    "    opened = [['Bengaluru', 454]]     # opened nodes\n",
    "\n",
    "    '''find the visited nodes'''\n",
    "    while True:\n",
    "        fn = [i[1] for i in opened]     # fn = f(n) = g(n) + h(n)\n",
    "        chosen_index = fn.index(min(fn))\n",
    "        node = opened[chosen_index][0]  # current node\n",
    "        closed.append(opened[chosen_index])\n",
    "        del opened[chosen_index]\n",
    "        if closed[-1][0] == 'Goa':        # break the loop if node G has been found\n",
    "            break\n",
    "        \n",
    "        for item in graph[node]:\n",
    "            if item[0] in [closed_item[0] for closed_item in closed]:\n",
    "                continue\n",
    "                \n",
    "            if (item[0] not in cost):\n",
    "                cost.update({item[0]: cost[node] + item[1]})\n",
    "            elif cost[item[0]] > cost[node] + item[1]:\n",
    "                cost.update({item[0]: cost[node] + item[1]})\n",
    "                            \n",
    "            fn_node = cost[node] + heuristics[item[0]] + item[1]     # calculate f(n) of current node\n",
    "            temp = [item[0], fn_node]\n",
    "            opened.append(temp)                                     # store f(n) of current node in array opened\n",
    "  \n",
    "            \n",
    "    '''find optimal sequence'''\n",
    "    trace_node = 'Goa'                        # correct optimal tracing node, initialize as node G\n",
    "    optimal_sequence = ['Goa']                # optimal node sequence\n",
    "    for i in range(len(closed)-2, -1, -1):\n",
    "        check_node = closed[i][0]           # current node\n",
    "        if trace_node in [children[0] for children in graph[check_node]]:\n",
    "            children_costs = [temp[1] for temp in graph[check_node]]\n",
    "            children_nodes = [temp[0] for temp in graph[check_node]]\n",
    "\n",
    "            '''check whether h(s) + g(s) = f(s). If so, append current node to optimal sequence\n",
    "            change the correct optimal tracing node to current node'''\n",
    "            if cost[check_node] + children_costs[children_nodes.index(trace_node)] == cost[trace_node]:\n",
    "                optimal_sequence.append(check_node)\n",
    "                trace_node = check_node\n",
    "    optimal_sequence.reverse()              # reverse the optimal sequence\n",
    "\n",
    "    return closed, optimal_sequence, cost['Goa']"
   ]
  },
  {
   "cell_type": "code",
   "execution_count": 4,
   "metadata": {},
   "outputs": [
    {
     "name": "stdout",
     "output_type": "stream",
     "text": [
      "{'Bengaluru': 454, 'Belgaum': 73, 'ChorlaGhat': 38, 'Hubli': 107, 'Dharwad': 96, 'Yellapur': 73, 'Sirsi': 108, 'Ankola': 72, 'Goa': 0}\n"
     ]
    }
   ],
   "source": [
    "#now lets find the heuristic values for each city to destination city\n",
    "\n",
    "cities = {'Bengaluru': [12.9716, 77.5946],\n",
    "         'Belgaum' : [15.8497, 74.4977],\n",
    "         'ChorlaGhat' : [15.6496, 74.1189],\n",
    "         'Hubli' : [15.3647, 75.1240],\n",
    "         'Dharwad' : [15.4589, 75.0078],\n",
    "         'Yellapur' : [14.9643, 74.7121],\n",
    "         'Sirsi' : [14.6196, 74.8441],\n",
    "         'Ankola' : [14.6653, 74.3001],\n",
    "         'Goa' : [15.2993, 74.1240]}\n",
    "\n",
    "heuristics = {}\n",
    "\n",
    "for key in cities:\n",
    "    heuristics[key] = harvesine(cities[key][0], cities[key][1], 15.2993, 74.1240)\n",
    "    \n",
    "print(heuristics)"
   ]
  },
  {
   "cell_type": "code",
   "execution_count": 5,
   "metadata": {},
   "outputs": [],
   "source": [
    "graph = {'Bengaluru' : [['Belgaum', 507],['Hubli', 412],['Sirsi', 405]],\n",
    "        'Belgaum' : [['ChorlaGhat', 59]],\n",
    "        'ChorlaGhat' : [['Goa',67]],\n",
    "        'Hubli' : [['Yellapur',71],['Dharwad',18]],\n",
    "        'Dharwad' : [['Goa', 140]],\n",
    "        'Yellapur' : [['Ankola', 72]],\n",
    "        'Sirsi' : [['Ankola', 91]],\n",
    "        'Ankola' : [['Goa', 111]]}\n",
    "\n",
    "cost = {'Bengaluru': 0} "
   ]
  },
  {
   "cell_type": "markdown",
   "metadata": {},
   "source": [
    "Call your main function/algorithm block in the next code block with appropriate input representation"
   ]
  },
  {
   "cell_type": "code",
   "execution_count": 7,
   "metadata": {},
   "outputs": [],
   "source": [
    "#Computation call\n",
    "\n",
    "visited_nodes, optimal_nodes, cost = AStarSearch()"
   ]
  },
  {
   "cell_type": "markdown",
   "metadata": {},
   "source": [
    "The agent should provide expected output for questions mentioned below in the subsequent blocks"
   ]
  },
  {
   "cell_type": "markdown",
   "metadata": {},
   "source": [
    "(3.1) Path taken to reach destination from Bengaluru"
   ]
  },
  {
   "cell_type": "code",
   "execution_count": 8,
   "metadata": {},
   "outputs": [
    {
     "name": "stdout",
     "output_type": "stream",
     "text": [
      "optimal nodes sequence: ['Bengaluru', 'Hubli', 'Dharwad', 'Goa']\n"
     ]
    }
   ],
   "source": [
    "# Execute statement to retrieve the path taken here\n",
    "\n",
    "print('optimal nodes sequence: ' + str(optimal_nodes))"
   ]
  },
  {
   "cell_type": "markdown",
   "metadata": {},
   "source": [
    "(3.2) Cost of the path"
   ]
  },
  {
   "cell_type": "code",
   "execution_count": 9,
   "metadata": {},
   "outputs": [
    {
     "name": "stdout",
     "output_type": "stream",
     "text": [
      "Cost of the path: 570\n"
     ]
    }
   ],
   "source": [
    "# Execute statement to retrieve the cost of the path here\n",
    "\n",
    "print('Cost of the path: ' + str(cost))"
   ]
  },
  {
   "cell_type": "markdown",
   "metadata": {},
   "source": [
    "(3.3) Total Number of nodes vistied to get this state"
   ]
  },
  {
   "cell_type": "code",
   "execution_count": 10,
   "metadata": {},
   "outputs": [
    {
     "name": "stdout",
     "output_type": "stream",
     "text": [
      "visited nodes: [['Bengaluru', 454], ['Sirsi', 513], ['Hubli', 519], ['Dharwad', 526], ['Yellapur', 556], ['Ankola', 568], ['Goa', 570]]\n"
     ]
    }
   ],
   "source": [
    "# Execute statement to retrieve the total number of nodes visited to get this state here\n",
    "\n",
    "print('visited nodes: ' + str(visited_nodes))"
   ]
  }
 ],
 "metadata": {
  "kernelspec": {
   "display_name": "Python 3",
   "language": "python",
   "name": "python3"
  },
  "language_info": {
   "codemirror_mode": {
    "name": "ipython",
    "version": 3
   },
   "file_extension": ".py",
   "mimetype": "text/x-python",
   "name": "python",
   "nbconvert_exporter": "python",
   "pygments_lexer": "ipython3",
   "version": "3.7.6"
  }
 },
 "nbformat": 4,
 "nbformat_minor": 2
}
